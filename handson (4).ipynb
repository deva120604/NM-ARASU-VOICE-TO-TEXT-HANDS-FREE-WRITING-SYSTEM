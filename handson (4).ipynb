{
 "cells": [
  {
   "cell_type": "code",
   "execution_count": 1,
   "id": "a759c7a6-fd5b-4c33-84ad-ffdcbaeaf80a",
   "metadata": {},
   "outputs": [
    {
     "name": "stdout",
     "output_type": "stream",
     "text": [
      "Requirement already satisfied: SpeechRecognition in c:\\users\\devas\\appdata\\local\\programs\\python\\python313\\lib\\site-packages (3.14.3)\n",
      "Requirement already satisfied: typing-extensions in c:\\users\\devas\\appdata\\local\\programs\\python\\python313\\lib\\site-packages (from SpeechRecognition) (4.13.2)\n",
      "Requirement already satisfied: standard-aifc in c:\\users\\devas\\appdata\\local\\programs\\python\\python313\\lib\\site-packages (from SpeechRecognition) (3.13.0)\n",
      "Requirement already satisfied: audioop-lts in c:\\users\\devas\\appdata\\local\\programs\\python\\python313\\lib\\site-packages (from SpeechRecognition) (0.2.1)\n",
      "Requirement already satisfied: standard-chunk in c:\\users\\devas\\appdata\\local\\programs\\python\\python313\\lib\\site-packages (from standard-aifc->SpeechRecognition) (3.13.0)\n",
      "Note: you may need to restart the kernel to use updated packages.\n"
     ]
    }
   ],
   "source": [
    "pip install SpeechRecognition"
   ]
  },
  {
   "cell_type": "code",
   "execution_count": 2,
   "id": "eeb024e1-0281-4c55-ad9d-6b79f4f6c41a",
   "metadata": {},
   "outputs": [
    {
     "name": "stdout",
     "output_type": "stream",
     "text": [
      "Requirement already satisfied: PyAudio in c:\\users\\devas\\appdata\\local\\programs\\python\\python313\\lib\\site-packages (0.2.14)\n",
      "Note: you may need to restart the kernel to use updated packages.\n"
     ]
    }
   ],
   "source": [
    "pip install PyAudio"
   ]
  },
  {
   "cell_type": "code",
   "execution_count": 3,
   "id": "862ba157-987c-4d4c-b12b-f7ef40a29781",
   "metadata": {},
   "outputs": [
    {
     "name": "stdout",
     "output_type": "stream",
     "text": [
      "Listening... Speak continuously.\n",
      "Speak now...\n",
      "You said: rise in the East\n",
      "Speak now...\n",
      "You said: I love reading books in free time\n",
      "Speak now...\n",
      "You said: coffee taste better in the morning\n",
      "Speak now...\n",
      "You said: she walked her dog\n",
      "Speak now...\n",
      "You said: this weekend where are\n",
      "Speak now...\n",
      "You said: my phone battery is almost dead\n",
      "Speak now...\n",
      "You said: please turn off the light\n",
      "Speak now...\n",
      "You said: tomorrow will be a holiday\n",
      "Speak now...\n",
      "You said: he writes with his left hand\n",
      "Speak now...\n",
      "You said: I call you back after lunch\n",
      "Completed 10 samples. Stopping.\n"
     ]
    }
   ],
   "source": [
    "import speech_recognition as sr\n",
    "import pyttsx3\n",
    "\n",
    "def init_speaker():\n",
    "    \"\"\"Initialize the text-to-speech engine.\"\"\"\n",
    "    engine = pyttsx3.init()\n",
    "    engine.setProperty(\"rate\", 150)\n",
    "    return engine\n",
    "\n",
    "def recognize_speech():\n",
    "    \"\"\"Continuously listens to speech and saves up to 10 transcriptions.\"\"\"\n",
    "    recognizer = sr.Recognizer()\n",
    "    mic = sr.Microphone()\n",
    "    speaker = init_speaker()\n",
    "\n",
    "    print(\"Listening... Speak continuously.\")\n",
    "    speaker.say(\"Listening... Speak now.\")\n",
    "    speaker.runAndWait()\n",
    "\n",
    "    samples = 0  \n",
    "\n",
    "    with mic as source:\n",
    "        recognizer.adjust_for_ambient_noise(source)\n",
    "        while samples < 10:  \n",
    "            try:\n",
    "                print(\"Speak now...\")\n",
    "                audio = recognizer.listen(source)\n",
    "                text = recognizer.recognize_google(audio, language=\"en-IN\")  # Change language if needed\n",
    "                print(\"You said:\", text)\n",
    "                \n",
    "                with open(\"transcription.txt\", \"a\") as file:\n",
    "                    file.write(text + \"\\n\")\n",
    "                \n",
    "                speaker.say(\"You said: \" + text)\n",
    "                speaker.runAndWait()\n",
    "\n",
    "                samples += 1  \n",
    "\n",
    "            except sr.UnknownValueError:\n",
    "                print(\"Could not understand the audio.\")\n",
    "            except sr.RequestError:\n",
    "                print(\"Error connecting to recognition service.\")\n",
    "\n",
    "    print(\"Completed 10 samples. Stopping.\")\n",
    "    speaker.say(\"Speech recognition completed.\")\n",
    "    speaker.runAndWait()\n",
    "\n",
    "if __name__ == \"__main__\":\n",
    "    recognize_speech()\n"
   ]
  },
  {
   "cell_type": "code",
   "execution_count": null,
   "id": "b145cfcb-35d8-44c5-af79-50156519e6a8",
   "metadata": {},
   "outputs": [],
   "source": []
  }
 ],
 "metadata": {
  "kernelspec": {
   "display_name": "Python 3 (ipykernel)",
   "language": "python",
   "name": "python3"
  },
  "language_info": {
   "codemirror_mode": {
    "name": "ipython",
    "version": 3
   },
   "file_extension": ".py",
   "mimetype": "text/x-python",
   "name": "python",
   "nbconvert_exporter": "python",
   "pygments_lexer": "ipython3",
   "version": "3.13.3"
  }
 },
 "nbformat": 4,
 "nbformat_minor": 5
}
